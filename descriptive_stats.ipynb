{
  "cells": [
    {
      "metadata": {
        "_uuid": "1f2c879f87eb46dc525814b37c1c435554520951"
      },
      "cell_type": "markdown",
      "source": "# Table of Contents\n1. Measures of Center\n    * [Mean](#mean)\n    * [Median](#median)\n    * [Mode](#mode)\n2. Measures of Dispersion\n    * [Range](#range)\n    * [Percentiles](#percentiles)\n    * [Interquartile Range (IQR)](#iqr)    \n    * [Variance](#variance)\n    * [Standard Deviation](#sd)\n    * [Box Plots](#boxplots)"
    },
    {
      "metadata": {
        "trusted": true,
        "_uuid": "2e35383881e4e728894bd702b1a2f4dedc330585"
      },
      "cell_type": "code",
      "source": "import pandas as pd\nimport numpy as np\nimport warnings\nwarnings.filterwarnings(\"ignore\")\n\ndf = pd.read_csv(\"../input/Salaries.csv\")\ndf.head(2)",
      "execution_count": 47,
      "outputs": [
        {
          "output_type": "execute_result",
          "execution_count": 47,
          "data": {
            "text/plain": "   Id    EmployeeName  ...           Agency Status\n0   1  NATHANIEL FORD  ...    San Francisco    NaN\n1   2    GARY JIMENEZ  ...    San Francisco    NaN\n\n[2 rows x 13 columns]",
            "text/html": "<div>\n<style scoped>\n    .dataframe tbody tr th:only-of-type {\n        vertical-align: middle;\n    }\n\n    .dataframe tbody tr th {\n        vertical-align: top;\n    }\n\n    .dataframe thead th {\n        text-align: right;\n    }\n</style>\n<table border=\"1\" class=\"dataframe\">\n  <thead>\n    <tr style=\"text-align: right;\">\n      <th></th>\n      <th>Id</th>\n      <th>EmployeeName</th>\n      <th>JobTitle</th>\n      <th>BasePay</th>\n      <th>OvertimePay</th>\n      <th>OtherPay</th>\n      <th>Benefits</th>\n      <th>TotalPay</th>\n      <th>TotalPayBenefits</th>\n      <th>Year</th>\n      <th>Notes</th>\n      <th>Agency</th>\n      <th>Status</th>\n    </tr>\n  </thead>\n  <tbody>\n    <tr>\n      <th>0</th>\n      <td>1</td>\n      <td>NATHANIEL FORD</td>\n      <td>GENERAL MANAGER-METROPOLITAN TRANSIT AUTHORITY</td>\n      <td>167411</td>\n      <td>0</td>\n      <td>400184</td>\n      <td>NaN</td>\n      <td>567595.43</td>\n      <td>567595.43</td>\n      <td>2011</td>\n      <td>NaN</td>\n      <td>San Francisco</td>\n      <td>NaN</td>\n    </tr>\n    <tr>\n      <th>1</th>\n      <td>2</td>\n      <td>GARY JIMENEZ</td>\n      <td>CAPTAIN III (POLICE DEPARTMENT)</td>\n      <td>155966</td>\n      <td>245132</td>\n      <td>137811</td>\n      <td>NaN</td>\n      <td>538909.28</td>\n      <td>538909.28</td>\n      <td>2011</td>\n      <td>NaN</td>\n      <td>San Francisco</td>\n      <td>NaN</td>\n    </tr>\n  </tbody>\n</table>\n</div>"
          },
          "metadata": {}
        }
      ]
    },
    {
      "metadata": {
        "_uuid": "9baacb2d61a302925f517d2647228bf479540863"
      },
      "cell_type": "markdown",
      "source": "# Data Preparation\nConsidering the 'TotalPayBenefits' for years 2011 to 2014."
    },
    {
      "metadata": {
        "trusted": true,
        "_uuid": "87520365c80872ca1d219fe867c9d7f02892dc43"
      },
      "cell_type": "code",
      "source": "df['TotalPayBenefits'] = np.round(df['TotalPayBenefits'], 0)\ndf = df[['TotalPayBenefits']]\ndf.head(2)",
      "execution_count": 48,
      "outputs": [
        {
          "output_type": "execute_result",
          "execution_count": 48,
          "data": {
            "text/plain": "   TotalPayBenefits\n0          567595.0\n1          538909.0",
            "text/html": "<div>\n<style scoped>\n    .dataframe tbody tr th:only-of-type {\n        vertical-align: middle;\n    }\n\n    .dataframe tbody tr th {\n        vertical-align: top;\n    }\n\n    .dataframe thead th {\n        text-align: right;\n    }\n</style>\n<table border=\"1\" class=\"dataframe\">\n  <thead>\n    <tr style=\"text-align: right;\">\n      <th></th>\n      <th>TotalPayBenefits</th>\n    </tr>\n  </thead>\n  <tbody>\n    <tr>\n      <th>0</th>\n      <td>567595.0</td>\n    </tr>\n    <tr>\n      <th>1</th>\n      <td>538909.0</td>\n    </tr>\n  </tbody>\n</table>\n</div>"
          },
          "metadata": {}
        }
      ]
    },
    {
      "metadata": {
        "_uuid": "8a2f56a565f55ab096e450f33078ae665a9d9bb6"
      },
      "cell_type": "markdown",
      "source": "# Measures of Center\nMeasures of Center give us an estimate of the center of the data distribution. The three major measures of center include the **mean**, **median**, and **mode**. "
    },
    {
      "metadata": {
        "_uuid": "73d09b33272c542219ab1e2b2a73a4fa447ac162"
      },
      "cell_type": "markdown",
      "source": "## 1. Mean <a name=\"mean\"></a>\nMean (usuallly refered to Arithmetic Mean, also called Average) is the sum of all numbers in the dataset divided by the the total number of values."
    },
    {
      "metadata": {
        "trusted": true,
        "_uuid": "e21fbcf60644a0011c66015a85912131b099fc51"
      },
      "cell_type": "code",
      "source": "print(\"Mean of Salaries: \", df['TotalPayBenefits'].mean())",
      "execution_count": 49,
      "outputs": [
        {
          "output_type": "stream",
          "text": "Mean of Salaries:  93692.55306281701\n",
          "name": "stdout"
        }
      ]
    },
    {
      "metadata": {
        "_uuid": "203c4fb2e4b1006fcb5f4e1b66715e91ac5f39c7"
      },
      "cell_type": "markdown",
      "source": "## 2. Median <a name=\"median\"></a>\nMedian is the middle value of a data set that is sorted. Upper half of the data lies above it and lower half lies below it. \n\nSteps in calculating median:\n*     Sort the data \n*     If there are odd number of data points, median is the middle data point.\n*     If there are even number of data points, median is the mean of two middle data points\n\nMedian is a better choice when the mean value can be affected by some outliers."
    },
    {
      "metadata": {
        "trusted": true,
        "_uuid": "9239766b5b21f0bb6ade370419601f113350d25c"
      },
      "cell_type": "code",
      "source": "print(\"Median of Salaries: \", df['TotalPayBenefits'].median())",
      "execution_count": 50,
      "outputs": [
        {
          "output_type": "stream",
          "text": "Median of Salaries:  92404.0\n",
          "name": "stdout"
        }
      ]
    },
    {
      "metadata": {
        "_uuid": "a9436ffff279cc90b369df3f46fb51eb9e839b2c"
      },
      "cell_type": "markdown",
      "source": "## 3. Mode <a name=\"mode\"></a>\nMode is the highest occurring value in the dataset. "
    },
    {
      "metadata": {
        "trusted": true,
        "_uuid": "277fa7c868139fb4324da838fd8f4327209beab4"
      },
      "cell_type": "code",
      "source": "print(\"Mode of Salaries: \", df['TotalPayBenefits'].mode())",
      "execution_count": 51,
      "outputs": [
        {
          "output_type": "stream",
          "text": "Mode of Salaries:  0    7959.0\ndtype: float64\n",
          "name": "stdout"
        }
      ]
    },
    {
      "metadata": {
        "_uuid": "0832bb1baeac3e0b15ca8e38e93c1ec759341b28"
      },
      "cell_type": "markdown",
      "source": "At times mode can appear at the tail of the distribution which is not necessarily at or near the center of a distribution like here in this case above."
    },
    {
      "metadata": {
        "_uuid": "f9e67d364cfd09a2338ce0289a0e4cd0e9ccd92f"
      },
      "cell_type": "markdown",
      "source": "# Measures of Dispersion\nMeasures of dispersion describe how the data varies. It gives an idea of how much the data tends to diverge from the typical value, while central measures give us an idea about the typical value of the distribution."
    },
    {
      "metadata": {
        "_uuid": "17ed44bc81109e13301f9d1dd85a178572bedf56"
      },
      "cell_type": "markdown",
      "source": "## 1. Range <a name=\"range\"></a>\nRange is the difference between the maximum and minimum values in the distribution."
    },
    {
      "metadata": {
        "trusted": true,
        "_uuid": "a00225b56c5a8681d28f465f83e858ab3d4adb78"
      },
      "cell_type": "code",
      "source": "print(\"Range of Salaries: \", df['TotalPayBenefits'].max() - df['TotalPayBenefits'].min())",
      "execution_count": 52,
      "outputs": [
        {
          "output_type": "stream",
          "text": "Range of Salaries:  568213.0\n",
          "name": "stdout"
        }
      ]
    },
    {
      "metadata": {
        "_uuid": "9d4b4fe853d180052736fb2efa6665c1f7ff3f6b"
      },
      "cell_type": "markdown",
      "source": "## 2. Percentiles <a name=\"percentiles\"></a>\nPercentiles is a measure which indicates the value below which a given percentage of points in a dataset fall. For example, if a student secured a 99 percentile he scored more marks than 99% of the total appearing students OR only 1% of the total appearing students scored more marks than him.\n\nSteps in calculating Percentile of a given data point X:\n1. Sort the data\n2. Locate the index of X\n3. Percentile = (Number of data points behind X / Total number of data points) x 100\n\nIn this dataset, let's find what the 75th and 99th percentile of the salaries is."
    },
    {
      "metadata": {
        "trusted": true,
        "_uuid": "bcfeb62c2e5dd3c389326499a01e33297f3c2ecb"
      },
      "cell_type": "code",
      "source": "from scipy import stats\nprint(\"The 75th percentile of Salaries: \", stats.scoreatpercentile(df['TotalPayBenefits'], 75))\nprint(\"The 99th percentile of Salaries: \", stats.scoreatpercentile(df['TotalPayBenefits'], 99))",
      "execution_count": 53,
      "outputs": [
        {
          "output_type": "stream",
          "text": "The 75th percentile of Salaries:  132876.0\nThe 99th percentile of Salaries:  253776.04\n",
          "name": "stdout"
        }
      ]
    },
    {
      "metadata": {
        "_uuid": "473ff2fff6e817c9e86e98bfc9346910f0865dc2"
      },
      "cell_type": "markdown",
      "source": "## 3. Interquartile Range (IQR) <a name=\"iqr\"></a>\nIQR is the difference between the third quartile and the first quartile. It is the amount spread in middle 50% of the dataset.\n* First Quartile: Median of data points to left of the median in ordered list (25th percentile)\n* Second Quartile: Median of data (50th percentile)\n* Third Quartile: Median of data points to right of the median in ordered list (75th percentile)\n* IQR = Third Quartile - First Quartile"
    },
    {
      "metadata": {
        "trusted": true,
        "_uuid": "5fe4b0031c63fe6a0f29c540514d8e8d79ec6794"
      },
      "cell_type": "code",
      "source": "print(\"IQR of Salaries: \", stats.iqr(df['TotalPayBenefits'], rng=(25, 75)))",
      "execution_count": 54,
      "outputs": [
        {
          "output_type": "stream",
          "text": "IQR of Salaries:  88810.75\n",
          "name": "stdout"
        }
      ]
    },
    {
      "metadata": {
        "_uuid": "485a0a552a15a6a3c64dba20a5e3f5309d2c9d62"
      },
      "cell_type": "markdown",
      "source": "## 4. Variance <a name=\"variance\"></a>\nVariance is calculated by finding the mean(the average) and subtracting the mean from each number in the dataset and then squaring the result. It is a measurement of the spread between numbers in a dataset. It measures how much the values in a dataset differ from their mean."
    },
    {
      "metadata": {
        "trusted": true,
        "_uuid": "222bae4a175475c406da8c43f4a966bd6012dadb"
      },
      "cell_type": "code",
      "source": "print(\"Variance of Salaries: \", df['TotalPayBenefits'].var())",
      "execution_count": 55,
      "outputs": [
        {
          "output_type": "stream",
          "text": "Variance of Salaries:  3943027891.4249988\n",
          "name": "stdout"
        }
      ]
    },
    {
      "metadata": {
        "_uuid": "41e5daf3f3a204b2af82ae25326da6aa9cfc1b45"
      },
      "cell_type": "markdown",
      "source": "## 5. Standard Deviation <a name=\"sd\"></a>\nStandard Deviation is the square root of variance. It also measures the spread of the dataset. The standard deviation is expressed in the same units as the mean is, whereas the variance is expressed in squared units."
    },
    {
      "metadata": {
        "trusted": true,
        "_uuid": "990f91e607b837f28e373b2e27ad1601a12790de"
      },
      "cell_type": "code",
      "source": "print(\"Standard Deviation of Salaries: \", df['TotalPayBenefits'].std())",
      "execution_count": 56,
      "outputs": [
        {
          "output_type": "stream",
          "text": "Standard Deviation of Salaries:  62793.533834504\n",
          "name": "stdout"
        }
      ]
    },
    {
      "metadata": {
        "_uuid": "48a981d7a09913ff00af9dd8e00c0b4f9d12a853"
      },
      "cell_type": "markdown",
      "source": "## 6. Box Plots <a name=\"boxplots\"></a>\nA box plot—displays the five-number summary of a set of data. The five-number summary consists of the following parameters:\n1. Minimum\n2. First quartile (25th percentile)\n3. Median (50th percentile)\n4. Third quartile (75th percentile)\n5. Maximum\n\n![](http://i67.tinypic.com/2ajpc48.png)\n"
    },
    {
      "metadata": {
        "trusted": true,
        "_uuid": "e2f3e40c416d3a5535b3f6a861fde632e3462d6a"
      },
      "cell_type": "code",
      "source": "import matplotlib.pyplot as plt\ndf.plot(kind='box')",
      "execution_count": 57,
      "outputs": [
        {
          "output_type": "execute_result",
          "execution_count": 57,
          "data": {
            "text/plain": "<matplotlib.axes._subplots.AxesSubplot at 0x7feb09e8fda0>"
          },
          "metadata": {}
        },
        {
          "output_type": "display_data",
          "data": {
            "text/plain": "<matplotlib.figure.Figure at 0x7feb09e8f3c8>",
            "image/png": "[encoded data removed]"
          },
          "metadata": {}
        }
      ]
    }
  ],
  "metadata": {
    "kernelspec": {
      "display_name": "Python 3",
      "language": "python",
      "name": "python3"
    },
    "language_info": {
      "name": "python",
      "version": "3.6.5",
      "mimetype": "text/x-python",
      "codemirror_mode": {
        "name": "ipython",
        "version": 3
      },
      "pygments_lexer": "ipython3",
      "nbconvert_exporter": "python",
      "file_extension": ".py"
    }
  },
  "nbformat": 4,
  "nbformat_minor": 1
}